{
 "cells": [
  {
   "cell_type": "code",
   "execution_count": 68,
   "metadata": {},
   "outputs": [],
   "source": [
    "# Part 1: Downloading Archaea"
   ]
  },
  {
   "cell_type": "code",
   "execution_count": null,
   "metadata": {},
   "outputs": [],
   "source": [
    "%%bash\n",
    "cd /home/liangl5/CRISPR\n",
    "cp -R ./genome_archaea/*.* /home/liangl5/CRISPR/crf/genome\n",
    "# Copies everything from genome_archaea into genome"
   ]
  },
  {
   "cell_type": "code",
   "execution_count": 69,
   "metadata": {},
   "outputs": [],
   "source": [
    "#gunzip *.gz"
   ]
  },
  {
   "cell_type": "code",
   "execution_count": 70,
   "metadata": {
    "scrolled": false
   },
   "outputs": [],
   "source": [
    "# Unzips Everything\n",
    "\n",
    "import os\n",
    "your_path = '/home/liangl5/CRISPR/crf/genome'\n",
    "files = os.listdir(your_path)\n",
    "\n",
    "for file in files: \n",
    "    os.system('gunzip /home/liangl5/CRISPR/crf/genome/' + file)\n",
    "    command='gunzip ./'+ file"
   ]
  },
  {
   "cell_type": "code",
   "execution_count": null,
   "metadata": {},
   "outputs": [],
   "source": [
    "%%bash\n",
    "cd /home/liangl5/CRISPR/crf\n",
    "./pipe.sh\n",
    "\n",
    "#Preforms pipe.sh"
   ]
  },
  {
   "cell_type": "code",
   "execution_count": null,
   "metadata": {},
   "outputs": [],
   "source": [
    "%%bash\n",
    "mkdir CRISPRs_archaea\n",
    "mv ./CRISPRs/* CRISPRs_archaea/"
   ]
  },
  {
   "cell_type": "code",
   "execution_count": null,
   "metadata": {},
   "outputs": [],
   "source": [
    "# Part 2: Downloading Bacteria"
   ]
  },
  {
   "cell_type": "code",
   "execution_count": 72,
   "metadata": {},
   "outputs": [],
   "source": [
    "%%bash\n",
    "cd /home/liangl5/CRISPR\n",
    "cp -R ./genome_bacteria/*.* /home/liangl5/CRISPR/crf/genome\n",
    "# Copies everything from genome_archaea into genome"
   ]
  },
  {
   "cell_type": "code",
   "execution_count": 73,
   "metadata": {},
   "outputs": [],
   "source": [
    "# Unzips Everything\n",
    "\n",
    "import os\n",
    "your_path = '/home/liangl5/CRISPR/crf/genome'\n",
    "files = os.listdir(your_path)\n",
    "\n",
    "for file in files: \n",
    "    os.system('gunzip /home/liangl5/CRISPR/crf/genome/' + file)\n",
    "    command='gunzip ./'+ file"
   ]
  },
  {
   "cell_type": "code",
   "execution_count": null,
   "metadata": {},
   "outputs": [],
   "source": [
    "%%bash\n",
    "nohup ./pipe.sh &"
   ]
  },
  {
   "cell_type": "code",
   "execution_count": null,
   "metadata": {},
   "outputs": [],
   "source": [
    "%%bash\n",
    "mkdir CRISPRs_archaea\n",
    "mv ./CRISPRs/* CRISPRs_archaea/"
   ]
  },
  {
   "cell_type": "code",
   "execution_count": null,
   "metadata": {},
   "outputs": [],
   "source": [
    "# Part 3: Renaming All files to .crisps"
   ]
  },
  {
   "cell_type": "code",
   "execution_count": 11,
   "metadata": {},
   "outputs": [],
   "source": [
    "import os\n",
    "\n",
    "for filename in os.listdir('/home/liangl5/CRISPR/crf/CRISPRs_archaea'):\n",
    "    tmp = filename[:-4] + '.crisp'\n",
    "\n",
    "    os.system('mv ./crf/CRISPRs_archaea/' + filename + ' crf/CRISPRs_archaea/' + tmp)"
   ]
  },
  {
   "cell_type": "code",
   "execution_count": 12,
   "metadata": {},
   "outputs": [],
   "source": [
    "import os\n",
    "\n",
    "for filename in os.listdir('/home/liangl5/CRISPR/crf/CRISPRs_bacteria'):\n",
    "    tmp = filename[:-4] + '.crisp'\n",
    "\n",
    "    os.system('mv ./crf/CRISPRs_bacteria/' + filename + ' crf/CRISPRs_bacteria/' + tmp)"
   ]
  },
  {
   "cell_type": "code",
   "execution_count": null,
   "metadata": {},
   "outputs": [],
   "source": []
  }
 ],
 "metadata": {
  "kernelspec": {
   "display_name": "Python 3",
   "language": "python",
   "name": "python3"
  },
  "language_info": {
   "codemirror_mode": {
    "name": "ipython",
    "version": 3
   },
   "file_extension": ".py",
   "mimetype": "text/x-python",
   "name": "python",
   "nbconvert_exporter": "python",
   "pygments_lexer": "ipython3",
   "version": "3.6.10"
  }
 },
 "nbformat": 4,
 "nbformat_minor": 4
}
