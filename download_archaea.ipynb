{
 "cells": [
  {
   "cell_type": "code",
   "execution_count": 2,
   "metadata": {},
   "outputs": [
    {
     "name": "stdout",
     "output_type": "stream",
     "text": [
      "total 54892\n",
      "drwxrwxr-x  3 liangl5 liangl5     4096 May 17 19:23 .\n",
      "drwxr-xr-x 12 liangl5 liangl5     4096 May 17 13:38 ..\n",
      "-rw-rw-r--  1 liangl5 liangl5 56089025 May 17 05:59 assembly_summary.txt\n",
      "-rw-rw-r--  1 liangl5 liangl5     3327 May 17 13:57 crispr.ipynb\n",
      "-rw-rw-r--  1 liangl5 liangl5   100787 May 17 19:23 download_archaea.ipynb\n",
      "-rw-rw-r--  1 liangl5 liangl5        0 May 17 14:06 ftpdirpaths\n",
      "-rw-rw-r--  1 liangl5 liangl5        0 May 17 14:09 ftpfilepaths\n",
      "drwxrwxr-x  2 liangl5 liangl5     4096 May 17 13:53 .ipynb_checkpoints\n"
     ]
    }
   ],
   "source": [
    "# How to run Linux commands in Jupyter notebook?\n",
    "\n",
    "%%bash\n",
    "ls -al"
   ]
  },
  {
   "cell_type": "code",
   "execution_count": 6,
   "metadata": {},
   "outputs": [
    {
     "name": "stderr",
     "output_type": "stream",
     "text": [
      "--2020-05-18 12:12:46--  https://ftp.ncbi.nlm.nih.gov/genomes/refseq/archaea/assembly_summary.txt\n",
      "Resolving ftp.ncbi.nlm.nih.gov (ftp.ncbi.nlm.nih.gov)... 130.14.250.13, 2607:f220:41e:250::11\n",
      "Connecting to ftp.ncbi.nlm.nih.gov (ftp.ncbi.nlm.nih.gov)|130.14.250.13|:443... connected.\n",
      "HTTP request sent, awaiting response... 200 OK\n",
      "Length: 343595 (336K) [text/plain]\n",
      "Saving to: ‘assembly_summary.txt’\n",
      "\n",
      "     0K .......... .......... .......... .......... .......... 14% 1.06M 0s\n",
      "    50K .......... .......... .......... .......... .......... 29% 2.22M 0s\n",
      "   100K .......... .......... .......... .......... .......... 44% 88.9M 0s\n",
      "   150K .......... .......... .......... .......... .......... 59% 2.13M 0s\n",
      "   200K .......... .......... .......... .......... .......... 74%  105M 0s\n",
      "   250K .......... .......... .......... .......... .......... 89%  126M 0s\n",
      "   300K .......... .......... .......... .....                100%  132M=0.09s\n",
      "\n",
      "2020-05-18 12:12:46 (3.54 MB/s) - ‘assembly_summary.txt’ saved [343595/343595]\n",
      "\n"
     ]
    }
   ],
   "source": [
    "%%bash\n",
    "wget 'https://ftp.ncbi.nlm.nih.gov/genomes/refseq/archaea/assembly_summary.txt'\n",
    "\n",
    "# How can I download RefSeq data for all complete archaea genomes?\n",
    "# https://ftp.ncbi.nlm.nih.gov/genomes/refseq/archaea/assembly_summary.txt\n",
    "\n",
    "# Step (1) Download the /refseq/archaea/assembly_summary.txt file\n",
    "# May 12, 2020\n",
    "# RefSeq Release 200 is available for FTP"
   ]
  },
  {
   "cell_type": "code",
   "execution_count": 7,
   "metadata": {},
   "outputs": [],
   "source": [
    "%%bash\n",
    "mv assembly_summary.txt assembly_summary_archaea.txt\n",
    "\n",
    "# Rename assembly_summary.txt so it is less confusing"
   ]
  },
  {
   "cell_type": "code",
   "execution_count": 8,
   "metadata": {},
   "outputs": [],
   "source": [
    "%%bash\n",
    "awk '{FS=\"\\t\"} ($12==\"Complete Genome\" && $11==\"latest\"){print $20}' assembly_summary_archaea.txt > ftpdirpaths_archaea\n",
    "\n",
    "# Step (2) List the FTP path (column 20) for the assemblies of interest, in this case those that have \n",
    "# \"Complete Genome\" assembly_level (column 12) and \"latest\" version_status (column 11). \n",
    "# One way to do this would be using the following awk command:\n",
    "# awk -F \"\\t\" '$12==\"Complete Genome\" $11==\"latest\"{print $20}' assembly_summary.txt > ftpdirpaths_archaea"
   ]
  },
  {
   "cell_type": "code",
   "execution_count": 10,
   "metadata": {},
   "outputs": [
    {
     "name": "stdout",
     "output_type": "stream",
     "text": [
      "351 ftpdirpaths_archaea\n",
      "1053 assembly_summary_archaea.txt\n"
     ]
    }
   ],
   "source": [
    "%%bash\n",
    "wc -l ftpdirpaths_archaea\n",
    "wc -l assembly_summary_archaea.txt\n",
    "\n",
    "# Shows how many files exist"
   ]
  },
  {
   "cell_type": "code",
   "execution_count": 14,
   "metadata": {},
   "outputs": [],
   "source": [
    "# Step (3) Append the filename of interest, in this case \"*genomic.fna.gz \" to the FTP directory names. \n",
    "# One way to do this would be using the following awk command:\n",
    "# awk 'BEGIN{FS=OFS=\"/\";filesuffix=\"genomic.fna.gz\"}{ftpdir=$0;asm=$10;file=asm\"_\"filesuffix;print ftpdir,file}' ftpdirpaths_archaea > ftpfilepaths_archaea\n",
    "\n",
    "%%bash\n",
    "awk 'BEGIN{FS=OFS=\"/\";filesuffix=\"genomic.fna.gz\"}{ftpdir=$0;asm=$10;file=asm\"_\"filesuffix;print ftpdir,file}' ftpdirpaths_archaea > ftpfilepaths_archaea"
   ]
  },
  {
   "cell_type": "code",
   "execution_count": 15,
   "metadata": {},
   "outputs": [],
   "source": [
    "# Step (4) Create a folder named genome for storing all genome fasta file\n",
    "\n",
    "%%bash               \n",
    "mkdir genome_archaea\n",
    "cd genome_archaea"
   ]
  },
  {
   "cell_type": "code",
   "execution_count": 16,
   "metadata": {},
   "outputs": [],
   "source": [
    "# Step (5) Download each genome individually using the filepath\n",
    "\n",
    "import os\n",
    "FH=open('ftpfilepaths_archaea', 'r')\n",
    "\n",
    "for i in FH:\n",
    "    command = 'wget ' + i\n",
    "    os.system(command)"
   ]
  },
  {
   "cell_type": "code",
   "execution_count": null,
   "metadata": {},
   "outputs": [],
   "source": [
    "%%bash\n",
    "mv *.fna.gz genome_archaea\n",
    "\n",
    "# Step (6) Move all downloaded genomes into genome_archaea"
   ]
  },
  {
   "cell_type": "code",
   "execution_count": null,
   "metadata": {},
   "outputs": [],
   "source": []
  },
  {
   "cell_type": "code",
   "execution_count": null,
   "metadata": {},
   "outputs": [],
   "source": [
    "# Part 2.  Downloading every genomes gff.gz file"
   ]
  },
  {
   "cell_type": "code",
   "execution_count": null,
   "metadata": {},
   "outputs": [],
   "source": []
  },
  {
   "cell_type": "code",
   "execution_count": 12,
   "metadata": {},
   "outputs": [],
   "source": [
    "%%bash\n",
    "awk 'BEGIN{FS=OFS=\"/\";filesuffix=\"genomic.gff.gz\"}{ftpdir=$0;asm=$10;file=asm\"_\"filesuffix;print ftpdir,file}' ftpdirpaths_archaea > ftpfilepaths_archaea_gff\n",
    "\n",
    "# Step (1) Append the filename of interest, in this case \"*genemoic.gff.gz\" to the FTP directory names. \n",
    "# One way to do this would be using the following awk command:\n",
    "# awk 'BEGIN{FS=OFS=\"/\";filesuffix=\"genomic.gff.gz\"}{ftpdir=$0;asm=$10;file=asm\"_\"filesuffix;print ftpdir,file}' ftpdirpaths_archaea > ftpfilepaths_archaea_gff"
   ]
  },
  {
   "cell_type": "code",
   "execution_count": 13,
   "metadata": {},
   "outputs": [],
   "source": [
    "%%bash\n",
    "mkdir gff_archaea\n",
    "\n",
    "\n",
    "# Step (2) Create new folder"
   ]
  },
  {
   "cell_type": "code",
   "execution_count": 14,
   "metadata": {},
   "outputs": [],
   "source": [
    "# Step (3) Download each genome individually using the filepath\n",
    "\n",
    "import os\n",
    "FH=open('ftpfilepaths_archaea_gff', 'r')\n",
    "\n",
    "for i in FH:\n",
    "    command = 'wget ' + i\n",
    "    os.system(command)"
   ]
  },
  {
   "cell_type": "code",
   "execution_count": 15,
   "metadata": {},
   "outputs": [],
   "source": [
    "%%bash\n",
    "mv *.gff.gz gff_archaea\n",
    "# Step (4) Move all files into gff_archaea"
   ]
  }
 ],
 "metadata": {
  "kernelspec": {
   "display_name": "Python 3",
   "language": "python",
   "name": "python3"
  },
  "language_info": {
   "codemirror_mode": {
    "name": "ipython",
    "version": 3
   },
   "file_extension": ".py",
   "mimetype": "text/x-python",
   "name": "python",
   "nbconvert_exporter": "python",
   "pygments_lexer": "ipython3",
   "version": "3.6.10"
  }
 },
 "nbformat": 4,
 "nbformat_minor": 4
}
