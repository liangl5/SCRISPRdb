{
 "cells": [
  {
   "cell_type": "code",
   "execution_count": 1,
   "metadata": {},
   "outputs": [],
   "source": [
    "# This code is to help BLAST makeblastdb to utilize taxid, which will facilitate downstream data analysis\n",
    "# The input is the FASTA sequence file with GenBank accession, we will need to generate taxid_map information"
   ]
  },
  {
   "cell_type": "code",
   "execution_count": 43,
   "metadata": {},
   "outputs": [
    {
     "name": "stdout",
     "output_type": "stream",
     "text": [
      "Duplicate key NC_028653.1\n",
      "Duplicate key NC_028665.1\n",
      "Duplicate key NC_030916.1\n",
      "Duplicate key NC_030935.1\n",
      "Duplicate key NC_030907.1\n",
      "Duplicate key NC_030939.1\n",
      "Duplicate key NC_030902.1\n",
      "Duplicate key NC_031936.1\n"
     ]
    }
   ],
   "source": [
    "from collections import OrderedDict\n",
    "import re\n",
    "\n",
    "fh=open(\"./second_public/blast_db/refseq.200.viral-plasmid.genomic.fna\", 'r')\n",
    "\n",
    "my_d=OrderedDict()\n",
    "\n",
    "for i in fh:\n",
    "    if i.startswith('>'):\n",
    "        result=re.findall('>(\\S+)\\s', i)        # Extract the informaiton between the starting > and the first space\n",
    "        exist=my_d.get(result[0], 0)\n",
    "        #print(exist)\n",
    "        if not exist:\n",
    "            my_d[result[0]]=1\n",
    "        else:\n",
    "            print(\"Duplicate key\", result[0])\n",
    "\n",
    "#for key in my_d.keys():\n",
    "#    print(key)\n",
    "\n",
    "# WE detected the following accessions belongs to both virus and plasmid from the GenBank dowload:\n",
    "\n",
    "# Duplicate key NC_028653.1\n",
    "# Duplicate key NC_028665.1\n",
    "# Duplicate key NC_030916.1\n",
    "# Duplicate key NC_030935.1\n",
    "# Duplicate key NC_030907.1\n",
    "# Duplicate key NC_030939.1\n",
    "# Duplicate key NC_030902.1\n",
    "# Duplicate key NC_031936.1"
   ]
  },
  {
   "cell_type": "code",
   "execution_count": 44,
   "metadata": {},
   "outputs": [],
   "source": [
    "fh2=open(\"./second_public/blast_db/nucl_gb.accession2taxid\", 'r')\n",
    "for i in fh2:\n",
    "    result=i.split('\\t')\n",
    "    #print(result[1], result[2])\n",
    "    if result[1] in my_d:\n",
    "        my_d[result[1]]=result[2]\n",
    "fh2.close()        "
   ]
  },
  {
   "cell_type": "code",
   "execution_count": 45,
   "metadata": {},
   "outputs": [],
   "source": [
    "fh3=open(\"./second_public/blast_db/refseq.200.viral-plasmid.genomic.taxid.txt\", 'w')\n",
    "for key, value in my_d.items():\n",
    "    fh3.write(key+' '+str(value)+'\\n')\n",
    "fh3.close()"
   ]
  },
  {
   "cell_type": "code",
   "execution_count": null,
   "metadata": {},
   "outputs": [],
   "source": []
  }
 ],
 "metadata": {
  "kernelspec": {
   "display_name": "Python 3",
   "language": "python",
   "name": "python3"
  },
  "language_info": {
   "codemirror_mode": {
    "name": "ipython",
    "version": 3
   },
   "file_extension": ".py",
   "mimetype": "text/x-python",
   "name": "python",
   "nbconvert_exporter": "python",
   "pygments_lexer": "ipython3",
   "version": "3.6.10"
  }
 },
 "nbformat": 4,
 "nbformat_minor": 4
}
