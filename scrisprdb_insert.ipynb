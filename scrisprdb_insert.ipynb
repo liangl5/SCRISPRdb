{
 "cells": [
  {
   "cell_type": "code",
   "execution_count": 1,
   "metadata": {},
   "outputs": [],
   "source": [
    "# Part 1: Populating NCBI_RefSeq Table"
   ]
  },
  {
   "cell_type": "code",
   "execution_count": 1,
   "metadata": {},
   "outputs": [],
   "source": [
    "import requests\n",
    "import re\n",
    "\n",
    "r = requests.get('https://ftp.ncbi.nlm.nih.gov/refseq/release/release-notes/')   \n",
    "line = r.text.split('\\n')[10]\n",
    "fileName = line[line.find('>')+1:]\n",
    "index = fileName.find('<')\n",
    "\n",
    "fileName = fileName[:index]\n",
    "date=re.findall('\\d\\d\\d\\d-\\d\\d-\\d\\d',line)[0]\n",
    "num = re.findall('\\d\\d\\d', fileName)[0]\n",
    "fileName = \"https://ftp.ncbi.nlm.nih.gov/refseq/release/release-notes/\" + fileName"
   ]
  },
  {
   "cell_type": "code",
   "execution_count": 3,
   "metadata": {},
   "outputs": [
    {
     "data": {
      "text/plain": [
       "True"
      ]
     },
     "execution_count": 3,
     "metadata": {},
     "output_type": "execute_result"
    }
   ],
   "source": [
    "import mysql.connector\n",
    "\n",
    "mydb = mysql.connector.connect(\n",
    "    host=\"localhost\",\n",
    "    user=\"mubil\",\n",
    "    passwd=\"***Mubil520^^^\",\n",
    "    database='SCRISPRdb'\n",
    ")\n",
    "\n",
    "mycursor = mydb.cursor()\n",
    "\n",
    "query = 'INSERT INTO NCBI_RefSeq(release_num, release_date, release_notes, comments) VALUES ('+ num + ', \\''+ date + '\\', \\''+ fileName + '\\', \\'\\');'\n",
    "mycursor.execute(query)\n",
    "\n",
    "mydb.commit()\n",
    "mycursor.close()"
   ]
  },
  {
   "cell_type": "code",
   "execution_count": 4,
   "metadata": {},
   "outputs": [],
   "source": [
    "# Part 2: Populating Complete_Genomes - Archaea"
   ]
  },
  {
   "cell_type": "code",
   "execution_count": 2,
   "metadata": {
    "scrolled": true
   },
   "outputs": [
    {
     "data": {
      "text/plain": [
       "True"
      ]
     },
     "execution_count": 2,
     "metadata": {},
     "output_type": "execute_result"
    }
   ],
   "source": [
    "import pandas as pd\n",
    "import mysql.connector\n",
    "import math\n",
    "import re\n",
    "\n",
    "mydb = mysql.connector.connect(\n",
    "    host=\"localhost\",\n",
    "    user=\"mubil\",\n",
    "    passwd=\"***Mubil520^^^\",\n",
    "    database='SCRISPRdb'\n",
    ")\n",
    "\n",
    "mycursor = mydb.cursor()\n",
    "\n",
    "\n",
    "df = pd.read_csv(\"assembly_summary_archaea.txt\", delimiter='\\t', skiprows=1) \n",
    "\n",
    "df.drop(df[df['assembly_level'] != 'Complete Genome'].index, inplace = True) \n",
    "df.drop(df[df['version_status'] != 'latest'].index, inplace = True) \n",
    "\n",
    "\n",
    "\n",
    "for index, row in df.iterrows():\n",
    "    ftp = re.findall('GCF_.*$', row['ftp_path'])[0] + '_genomic.crisp'\n",
    "    \n",
    "    file = open('/home/liangl5/CRISPR/crf/CRISPRs_archaea/' + ftp, 'r')\n",
    "    refSeqAccession = next(file).split(' ')[2]\n",
    "    genomeLength = int(next(file).split(': ')[1])\n",
    "    file.close();\n",
    "    \n",
    "    \n",
    "    check=\" \"+num+',\\''+row['# assembly_accession']+'\\',\\''+row['# assembly_accession']+'\\',\\''+refSeqAccession+'\\',\\''+row['refseq_category']+'\\','+str(row['taxid'])+','+str(row['species_taxid'])\n",
    "    \n",
    "    isPlaceHolder = str(row['infraspecific_name'])\n",
    "    iPlaceHolder = str(row['isolate'])\n",
    "    oPlaceHolder = row['organism_name']\n",
    "    \n",
    "    if (isPlaceHolder == 'nan'):\n",
    "        isPlaceHolder = ''\n",
    "    if (iPlaceHolder == 'nan'):\n",
    "        iPlaceHolder = ''\n",
    "    oPlaceHolder = oPlaceHolder.replace('\\'', '\\\\\\'')\n",
    "    \n",
    "    check = check+',\\''+oPlaceHolder+'\\',\\''+isPlaceHolder+'\\',\\''+iPlaceHolder+'\\','+str(genomeLength)+',\\'archaea\\',\\''+row['ftp_path'] + '\\''\n",
    "    query = 'INSERT INTO Complete_Genome(release_num,RefSeqAssembly_Accession,GenBankAssembly_Accession,RefSeq_Accession,RefSeqCategory,taxId,species_taxId,organism_name,infraspecific_name,isolate,genome_length,domain,fasta_file_name)'\n",
    "    query = query + ' VALUES (' + check + ');'\n",
    "    mycursor.execute(query)\n",
    "    mydb.commit()\n",
    "mycursor.close()"
   ]
  },
  {
   "cell_type": "code",
   "execution_count": 16,
   "metadata": {},
   "outputs": [],
   "source": [
    "# Part 2.5: Populating Complete_Genomes - Bacteria"
   ]
  },
  {
   "cell_type": "code",
   "execution_count": 4,
   "metadata": {
    "scrolled": true
   },
   "outputs": [
    {
     "data": {
      "text/plain": [
       "True"
      ]
     },
     "execution_count": 4,
     "metadata": {},
     "output_type": "execute_result"
    }
   ],
   "source": [
    "import pandas as pd\n",
    "import mysql.connector\n",
    "import math\n",
    "import re\n",
    "\n",
    "mydb = mysql.connector.connect(\n",
    "    host=\"localhost\",\n",
    "    user=\"mubil\",\n",
    "    passwd=\"***Mubil520^^^\",\n",
    "    database='SCRISPRdb'\n",
    ")\n",
    "\n",
    "mycursor = mydb.cursor()\n",
    "\n",
    "\n",
    "df = pd.read_csv(\"assembly_summary_bacteria.txt\", delimiter='\\t', skiprows=1) \n",
    "\n",
    "df.drop(df[df['assembly_level'] != 'Complete Genome'].index, inplace = True) \n",
    "df.drop(df[df['version_status'] != 'latest'].index, inplace = True) \n",
    "\n",
    "\n",
    "\n",
    "for index, row in df.iterrows():\n",
    "    ftp = re.findall('GCF_.*$', row['ftp_path'])[0] + '_genomic.crisp'\n",
    "    \n",
    "    file = open('/home/liangl5/CRISPR/crf/CRISPRs_bacteria/' + ftp, 'r')\n",
    "    refSeqAccession = next(file).split(' ')[2]\n",
    "    genomeLength = int(next(file).split(': ')[1])\n",
    "    file.close();\n",
    "    \n",
    "    check=\" \"+num+',\\''+row['# assembly_accession']+'\\',\\''+row['# assembly_accession']+'\\',\\''+refSeqAccession+'\\',\\''+row['refseq_category']+'\\','+str(row['taxid'])+','+str(row['species_taxid'])    \n",
    "    \n",
    "    isPlaceHolder = str(row['infraspecific_name'])\n",
    "    iPlaceHolder = str(row['isolate'])\n",
    "    oPlaceHolder = row['organism_name']\n",
    "    \n",
    "    if (isPlaceHolder == 'nan'):\n",
    "        isPlaceHolder = ''\n",
    "    if (iPlaceHolder == 'nan'):\n",
    "        iPlaceHolder = ''\n",
    "    oPlaceHolder = oPlaceHolder.replace('\\'', '\\\\\\'')\n",
    "    isPlaceHolder = isPlaceHolder.replace('\\'', '\\\\\\'')\n",
    "    check = check+',\\''+oPlaceHolder+'\\',\\''+isPlaceHolder+'\\',\\''+iPlaceHolder+'\\','+str(genomeLength)+',\\'bacteria\\',\\''+row['ftp_path'] + '\\''\n",
    "    \n",
    "   \n",
    "    query = 'INSERT INTO Complete_Genome(release_num,RefSeqAssembly_Accession,GenBankAssembly_Accession,RefSeq_Accession,RefSeqCategory,taxId,species_taxId,organism_name,infraspecific_name,isolate,genome_length,domain,fasta_file_name)'\n",
    "    query = query + ' VALUES (' + check + ');'\n",
    "    #print(query)\n",
    "    mycursor.execute(query)\n",
    "    mydb.commit()\n",
    "mycursor.close()"
   ]
  },
  {
   "cell_type": "code",
   "execution_count": 3,
   "metadata": {},
   "outputs": [],
   "source": [
    "# Part 3: Populating CRISPRs - Archaea"
   ]
  },
  {
   "cell_type": "code",
   "execution_count": 8,
   "metadata": {
    "scrolled": false
   },
   "outputs": [
    {
     "data": {
      "text/plain": [
       "True"
      ]
     },
     "execution_count": 8,
     "metadata": {},
     "output_type": "execute_result"
    }
   ],
   "source": [
    "import os\n",
    "import mysql.connector\n",
    "import re\n",
    "\n",
    "mydb = mysql.connector.connect(\n",
    "    host=\"localhost\",\n",
    "    user=\"mubil\",\n",
    "    passwd=\"***Mubil520^^^\",\n",
    "    database='SCRISPRdb'\n",
    ")\n",
    "\n",
    "mycursor = mydb.cursor()\n",
    "\n",
    "\n",
    "rangeEnd = 0\n",
    "rangeStart = 0\n",
    "repeatPositions = \"\"\n",
    "spacerPositions = \"\"\n",
    "prevRepeatLength = 0\n",
    "\n",
    "repeatCount = 0\n",
    "for filename in os.listdir('/home/liangl5/CRISPR/crf/CRISPRs_archaea'):\n",
    "    file1 = open('/home/liangl5/CRISPR/crf/CRISPRs_archaea/' + filename, 'r') \n",
    "    fileLines = file1.readlines() \n",
    "    \n",
    "    # This finds the accession id so we can see which genome it is\n",
    "    tmpMatch = re.findall('\\.\\d', filename)[0]\n",
    "    tmpIndex = filename.find(tmpMatch)\n",
    "    accession = filename[:tmpIndex+2]\n",
    "    \n",
    "    for line in fileLines:\n",
    "        if (line.startswith('Repeats')):\n",
    "            # This means we reached the end of a crispr and need to add into table\n",
    "            \n",
    "            # This finds the genome_id\n",
    "            mycursor.execute('SELECT genome_id FROM Complete_Genome WHERE RefSeqAssembly_Accession = \\'' + accession + '\\';')\n",
    "            records = mycursor.fetchall()\n",
    "            genomeId = records[0][0]\n",
    "            \n",
    "            query = 'INSERT INTO CRISPRs(genome_id, range_begin, range_end, repeat_positions, spacer_positions, repeat_count, spacer_count) VALUES '\n",
    "            query = query + '(' + str(genomeId) + ',' + str(rangeStart) + ',' + str(rangeEnd) + ',\\'' + repeatPositions[1:] + '\\',\\''\n",
    "            query = query + spacerPositions[1:] + '\\',' + str(repeatCount) + ',' + str(repeatCount-1) + ');'\n",
    "            #print(query)\n",
    "            mycursor.execute(query)\n",
    "            mydb.commit()\n",
    "            \n",
    "            # reset global variable\n",
    "            repeatCount = 0\n",
    "            repeatPositions = \"\"\n",
    "            spacerPositions = \"\"\n",
    "        \n",
    "        # Means new crispr\n",
    "        if (line.startswith('CRISPR')):\n",
    "        \n",
    "            index = line.find(':')\n",
    "            rangeArray = line[index+2:-1].split(' - ')\n",
    "            \n",
    "            rangeStart = rangeArray[0]\n",
    "            rangeEnd = rangeArray[1]\n",
    "\n",
    "        # Means an entry into a particular crispr\n",
    "        if (line[0].isdigit()):\n",
    "            tmpArray = line.split('\\t')\n",
    "            spacerLength = 0\n",
    "            \n",
    "            if (tmpArray[-1][0] == '['):\n",
    "                genomeLengths = tmpArray[-1][2:-3].split(', ')\n",
    "                spacerLength = int(genomeLengths[1])\n",
    "                prevRepeatLength = int(genomeLengths[0])\n",
    "            repeatStart = int(tmpArray[0])\n",
    "              \n",
    "                \n",
    "            shortrepeat = str(repeatStart) + '-' + str(repeatStart + prevRepeatLength - 1)\n",
    "            if (spacerLength != 0):\n",
    "                spacerPositions = spacerPositions + \":\" + str(repeatStart+prevRepeatLength) + '-' + str(repeatStart+prevRepeatLength+spacerLength-1)\n",
    "            repeatPositions = repeatPositions + \":\" + shortrepeat\n",
    "            repeatCount+=1\n",
    "    \n",
    "mycursor.close()"
   ]
  },
  {
   "cell_type": "code",
   "execution_count": null,
   "metadata": {},
   "outputs": [],
   "source": [
    "# Part 3: Populating CRISPRs - Bacteria"
   ]
  },
  {
   "cell_type": "code",
   "execution_count": 9,
   "metadata": {},
   "outputs": [
    {
     "data": {
      "text/plain": [
       "True"
      ]
     },
     "execution_count": 9,
     "metadata": {},
     "output_type": "execute_result"
    }
   ],
   "source": [
    "import os\n",
    "import mysql.connector\n",
    "import re\n",
    "\n",
    "mydb = mysql.connector.connect(\n",
    "    host=\"localhost\",\n",
    "    user=\"mubil\",\n",
    "    passwd=\"***Mubil520^^^\",\n",
    "    database='SCRISPRdb'\n",
    ")\n",
    "\n",
    "mycursor = mydb.cursor()\n",
    "\n",
    "\n",
    "rangeEnd = 0\n",
    "rangeStart = 0\n",
    "repeatPositions = \"\"\n",
    "spacerPositions = \"\"\n",
    "prevRepeatLength = 0\n",
    "\n",
    "repeatCount = 0\n",
    "for filename in os.listdir('/home/liangl5/CRISPR/crf/CRISPRs_bacteria'):\n",
    "    file1 = open('/home/liangl5/CRISPR/crf/CRISPRs_bacteria/' + filename, 'r') \n",
    "    fileLines = file1.readlines() \n",
    "    \n",
    "    # This finds the accession id so we can see which genome it is\n",
    "    tmpMatch = re.findall('\\.\\d', filename)[0]\n",
    "    tmpIndex = filename.find(tmpMatch)\n",
    "    accession = filename[:tmpIndex+2]\n",
    "    \n",
    "    for line in fileLines:\n",
    "        if (line.startswith('Repeats')):\n",
    "            # This means we reached the end of a crispr and need to add into table\n",
    "            \n",
    "            # This finds the genome_id\n",
    "            mycursor.execute('SELECT genome_id FROM Complete_Genome WHERE RefSeqAssembly_Accession = \\'' + accession + '\\';')\n",
    "            records = mycursor.fetchall()\n",
    "            genomeId = records[0][0]\n",
    "            \n",
    "            query = 'INSERT INTO CRISPRs(genome_id, range_begin, range_end, repeat_positions, spacer_positions, repeat_count, spacer_count) VALUES '\n",
    "            query = query + '(' + str(genomeId) + ',' + str(rangeStart) + ',' + str(rangeEnd) + ',\\'' + repeatPositions[1:] + '\\',\\''\n",
    "            query = query + spacerPositions[1:] + '\\',' + str(repeatCount) + ',' + str(repeatCount-1) + ');'\n",
    "            #print(query)\n",
    "            mycursor.execute(query)\n",
    "            mydb.commit()\n",
    "            \n",
    "            # reset global variable\n",
    "            repeatCount = 0\n",
    "            repeatPositions = \"\"\n",
    "            spacerPositions = \"\"\n",
    "        \n",
    "        # Means new crispr\n",
    "        if (line.startswith('CRISPR')):\n",
    "        \n",
    "            index = line.find(':')\n",
    "            rangeArray = line[index+2:-1].split(' - ')\n",
    "            \n",
    "            rangeStart = rangeArray[0]\n",
    "            rangeEnd = rangeArray[1]\n",
    "\n",
    "        # Means an entry into a particular crispr\n",
    "        if (line[0].isdigit()):\n",
    "            tmpArray = line.split('\\t')\n",
    "            spacerLength = 0\n",
    "            \n",
    "            if (tmpArray[-1][0] == '['):\n",
    "                genomeLengths = tmpArray[-1][2:-3].split(', ')\n",
    "                spacerLength = int(genomeLengths[1])\n",
    "                prevRepeatLength = int(genomeLengths[0])\n",
    "            repeatStart = int(tmpArray[0])\n",
    "              \n",
    "                \n",
    "            shortrepeat = str(repeatStart) + '-' + str(repeatStart + prevRepeatLength - 1)\n",
    "            if (spacerLength != 0):\n",
    "                spacerPositions = spacerPositions + \":\" + str(repeatStart+prevRepeatLength) + '-' + str(repeatStart+prevRepeatLength+spacerLength-1)\n",
    "            repeatPositions = repeatPositions + \":\" + shortrepeat\n",
    "            repeatCount+=1\n",
    "    \n",
    "mycursor.close()"
   ]
  },
  {
   "cell_type": "code",
   "execution_count": null,
   "metadata": {},
   "outputs": [],
   "source": []
  }
 ],
 "metadata": {
  "kernelspec": {
   "display_name": "Python 3",
   "language": "python",
   "name": "python3"
  },
  "language_info": {
   "codemirror_mode": {
    "name": "ipython",
    "version": 3
   },
   "file_extension": ".py",
   "mimetype": "text/x-python",
   "name": "python",
   "nbconvert_exporter": "python",
   "pygments_lexer": "ipython3",
   "version": "3.6.10"
  }
 },
 "nbformat": 4,
 "nbformat_minor": 4
}
