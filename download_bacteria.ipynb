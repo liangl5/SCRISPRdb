{
 "cells": [
  {
   "cell_type": "code",
   "execution_count": null,
   "metadata": {},
   "outputs": [],
   "source": [
    "%%bash\n",
    "ls -al\n",
    "\n",
    "# How to run Linux commands in Jupyter notebook?"
   ]
  },
  {
   "cell_type": "code",
   "execution_count": null,
   "metadata": {},
   "outputs": [],
   "source": [
    "%%bash\n",
    "wget 'https://ftp.ncbi.nlm.nih.gov/genomes/refseq/bacteria/assembly_summary.txt'\n",
    "\n",
    "# How can I download RefSeq data for all complete bacterial genomes?\n",
    "# https://ftp.ncbi.nlm.nih.gov/genomes/refseq/bacteria/assembly_summary.txt\n",
    "\n",
    "# Step (1) Download the /refseq/bacteria/assembly_summary.txt file\n",
    "# May 12, 2020\n",
    "# RefSeq Release 200 is available for FTP"
   ]
  },
  {
   "cell_type": "code",
   "execution_count": null,
   "metadata": {},
   "outputs": [],
   "source": [
    "%%bash\n",
    "mv assembly_summary.txt assembly_summary_bacteria.txt\n",
    "\n",
    "# Rename assembly_summary.txt so it is less confusing"
   ]
  },
  {
   "cell_type": "code",
   "execution_count": null,
   "metadata": {},
   "outputs": [],
   "source": [
    "%%bash\n",
    "awk '{FS=\"\\t\"} ($12==\"Complete Genome\" && $11==\"latest\"){print $20}' assembly_summary_bacteria.txt > ftpdirpaths_bacteria\n",
    "\n",
    "# Step (2) List the FTP path (column 20) for the assemblies of interest, in this case those that have \n",
    "# \"Complete Genome\" assembly_level (column 12) and \"latest\" version_status (column 11). \n",
    "# One way to do this would be using the following awk command:\n",
    "# awk -F \"\\t\" '$12==\"Complete Genome\" $11==\"latest\"{print $20}' assembly_summary.txt > ftpdirpaths_bacteria"
   ]
  },
  {
   "cell_type": "code",
   "execution_count": null,
   "metadata": {},
   "outputs": [],
   "source": [
    "%%bash\n",
    "wc -l ftpdirpaths_bacteria\n",
    "wc -l assembly_summary_bacteria.txt\n",
    "\n",
    "# Shows how many files exist"
   ]
  },
  {
   "cell_type": "code",
   "execution_count": null,
   "metadata": {},
   "outputs": [],
   "source": [
    "%%bash\n",
    "awk 'BEGIN{FS=OFS=\"/\";filesuffix=\"genomic.fna.gz\"}{ftpdir=$0;asm=$10;file=asm\"_\"filesuffix;print ftpdir,file}' ftpdirpaths_bacteria > ftpfilepaths_bacteria\n",
    "\n",
    "# Step (3) Append the filename of interest, in this case \"*genomic.fna.gz\" to the FTP directory names. \n",
    "# One way to do this would be using the following awk command:\n",
    "# awk 'BEGIN{FS=OFS=\"/\";filesuffix=\"genomic.fna.gz\"}{ftpdir=$0;asm=$10;file=asm\"_\"filesuffix;print ftpdir,file}' ftpdirpaths_bacteria > ftpfilepaths_bacteria"
   ]
  },
  {
   "cell_type": "code",
   "execution_count": null,
   "metadata": {},
   "outputs": [],
   "source": [
    "%%bash               \n",
    "mkdir genome_bacteria\n",
    "\n",
    "# Step (4) Create a folder named genome for storing all genome fasta file"
   ]
  },
  {
   "cell_type": "code",
   "execution_count": 1,
   "metadata": {},
   "outputs": [],
   "source": [
    "# Step (4) Download each genome individually using the filepath\n",
    "\n",
    "import os\n",
    "FH=open('ftpfilepaths_bacteria', 'r')\n",
    "\n",
    "for i in FH:\n",
    "    command = 'wget ' + i\n",
    "    os.system(command)"
   ]
  },
  {
   "cell_type": "code",
   "execution_count": null,
   "metadata": {},
   "outputs": [],
   "source": [
    "%%bash\n",
    "mv *.fna.gz genome_bacteria\n",
    "# Step (5) Move genomes into genome_bacteria"
   ]
  },
  {
   "cell_type": "code",
   "execution_count": null,
   "metadata": {},
   "outputs": [],
   "source": []
  },
  {
   "cell_type": "code",
   "execution_count": null,
   "metadata": {},
   "outputs": [],
   "source": [
    "# Part 2.  Downloading every genomes gff.gz file"
   ]
  },
  {
   "cell_type": "code",
   "execution_count": null,
   "metadata": {},
   "outputs": [],
   "source": []
  },
  {
   "cell_type": "code",
   "execution_count": 1,
   "metadata": {},
   "outputs": [],
   "source": [
    "%%bash\n",
    "awk 'BEGIN{FS=OFS=\"/\";filesuffix=\"genomic.gff.gz\"}{ftpdir=$0;asm=$10;file=asm\"_\"filesuffix;print ftpdir,file}' ftpdirpaths_bacteria > ftpfilepaths_bacteria_gff\n",
    "\n",
    "# Step (1) Append the filename of interest, in this case \"*genemoic.gff.gz\" to the FTP directory names. \n",
    "# One way to do this would be using the following awk command:\n",
    "# awk 'BEGIN{FS=OFS=\"/\";filesuffix=\"genomic.gff.gz\"}{ftpdir=$0;asm=$10;file=asm\"_\"filesuffix;print ftpdir,file}' ftpdirpaths_bacteria > ftpfilepaths_bacteria_gff"
   ]
  },
  {
   "cell_type": "code",
   "execution_count": 2,
   "metadata": {},
   "outputs": [],
   "source": [
    "%%bash\n",
    "mkdir gff_bacteria\n",
    "\n",
    "\n",
    "# Step (2) Create new folder"
   ]
  },
  {
   "cell_type": "code",
   "execution_count": 3,
   "metadata": {},
   "outputs": [],
   "source": [
    "# Step (3) Download each genome individually using the filepath\n",
    "\n",
    "import os\n",
    "FH=open('ftpfilepaths_bacteria_gff', 'r')\n",
    "\n",
    "for i in FH:\n",
    "    command = 'wget ' + i\n",
    "    os.system(command)"
   ]
  },
  {
   "cell_type": "code",
   "execution_count": null,
   "metadata": {},
   "outputs": [],
   "source": [
    "%%bash\n",
    "mv *.gff.gz gff_archaea\n",
    "# Step (4) Move all files into gff_archaea"
   ]
  }
 ],
 "metadata": {
  "kernelspec": {
   "display_name": "Python 3",
   "language": "python",
   "name": "python3"
  },
  "language_info": {
   "codemirror_mode": {
    "name": "ipython",
    "version": 3
   },
   "file_extension": ".py",
   "mimetype": "text/x-python",
   "name": "python",
   "nbconvert_exporter": "python",
   "pygments_lexer": "ipython3",
   "version": "3.6.10"
  }
 },
 "nbformat": 4,
 "nbformat_minor": 4
}
