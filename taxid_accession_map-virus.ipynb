{
 "cells": [
  {
   "cell_type": "code",
   "execution_count": 3,
   "metadata": {},
   "outputs": [],
   "source": [
    "# This code is to help BLAST makeblastdb to utilize taxid, which will facilitate downstream data analysis\n",
    "# The input is the FASTA sequence file with GenBank accession, we will need to generate taxid_map information"
   ]
  },
  {
   "cell_type": "code",
   "execution_count": 4,
   "metadata": {},
   "outputs": [],
   "source": [
    "from collections import OrderedDict\n",
    "import re\n",
    "\n",
    "fh=open(\"./second_public/blast_db/refseq.200.viral.genomic.fna\", 'r')\n",
    "\n",
    "my_d=OrderedDict()\n",
    "\n",
    "for i in fh:\n",
    "    if i.startswith('>'):\n",
    "        result=re.findall('>(\\S+)\\s', i)        # Extract the informaiton between the starting > and the first space\n",
    "        exist=my_d.get(result[0], 0)\n",
    "        #print(exist)\n",
    "        if not exist:\n",
    "            my_d[result[0]]=1\n",
    "        else:\n",
    "            print(\"Duplicate key\")\n",
    "\n",
    "#for key in my_d.keys():\n",
    "#    print(key)\n"
   ]
  },
  {
   "cell_type": "code",
   "execution_count": 5,
   "metadata": {},
   "outputs": [],
   "source": [
    "fh2=open(\"./second_public/blast_db/nucl_gb.accession2taxid\", 'r')\n",
    "for i in fh2:\n",
    "    result=i.split('\\t')\n",
    "    #print(result[1], result[2])\n",
    "    if result[1] in my_d:\n",
    "        my_d[result[1]]=result[2]\n",
    "fh2.close()        "
   ]
  },
  {
   "cell_type": "code",
   "execution_count": 6,
   "metadata": {},
   "outputs": [],
   "source": [
    "fh3=open(\"./second_public/blast_db/refseq.200.viral.genomic.taxid.txt\", 'w')\n",
    "for key, value in my_d.items():\n",
    "    fh3.write(key+' '+str(value)+'\\n')\n",
    "fh3.close()"
   ]
  },
  {
   "cell_type": "code",
   "execution_count": null,
   "metadata": {},
   "outputs": [],
   "source": []
  }
 ],
 "metadata": {
  "kernelspec": {
   "display_name": "Python 3",
   "language": "python",
   "name": "python3"
  },
  "language_info": {
   "codemirror_mode": {
    "name": "ipython",
    "version": 3
   },
   "file_extension": ".py",
   "mimetype": "text/x-python",
   "name": "python",
   "nbconvert_exporter": "python",
   "pygments_lexer": "ipython3",
   "version": "3.6.10"
  }
 },
 "nbformat": 4,
 "nbformat_minor": 4
}
